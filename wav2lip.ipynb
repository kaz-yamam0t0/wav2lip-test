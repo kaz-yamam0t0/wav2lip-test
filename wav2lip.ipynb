{
  "nbformat": 4,
  "nbformat_minor": 0,
  "metadata": {
    "colab": {
      "name": "wav2lip.ipynb",
      "private_outputs": true,
      "provenance": [],
      "collapsed_sections": [],
      "authorship_tag": "ABX9TyMJJq5G2LvgJ3l4hZ89KxLx",
      "include_colab_link": true
    },
    "kernelspec": {
      "name": "python3",
      "display_name": "Python 3"
    },
    "language_info": {
      "name": "python"
    },
    "accelerator": "GPU"
  },
  "cells": [
    {
      "cell_type": "markdown",
      "metadata": {
        "id": "view-in-github",
        "colab_type": "text"
      },
      "source": [
        "<a href=\"https://colab.research.google.com/github/kaz-yamam0t0/wav2lip-test/blob/main/wav2lip.ipynb\" target=\"_parent\"><img src=\"https://colab.research.google.com/assets/colab-badge.svg\" alt=\"Open In Colab\"/></a>"
      ]
    },
    {
      "cell_type": "code",
      "source": [
        "%tensorflow_version 1.x\n",
        "!pip3 install --quiet ml4a\n",
        "!pip3 install --quiet moviepy"
      ],
      "metadata": {
        "id": "r3pgRVVNYzh3"
      },
      "execution_count": null,
      "outputs": []
    },
    {
      "cell_type": "code",
      "source": [
        "import gdown\n",
        "gdown.download('https://drive.google.com/uc?id=1mlB3Qyuchyq74Nf3jcjCqn9J6U61zWWc', './wav2lip-samples.zip', quiet=False)\n",
        "! unzip wav2lip-samples.zip"
      ],
      "metadata": {
        "id": "CP2ZsDXQZTE-"
      },
      "execution_count": null,
      "outputs": []
    },
    {
      "cell_type": "code",
      "source": [
        "from ml4a import audio\n",
        "from ml4a import image\n",
        "from ml4a.models import wav2lip\n",
        "import glob, os\n",
        "\n",
        "if not os.path.isdir(\"./tmp\"): \n",
        "\tos.makedirs(\"./tmp\")\n",
        "\n",
        "if not os.path.isdir(\"./dist\"): \n",
        "\tos.makedirs(\"./dist\")\n",
        "\n",
        "audio = \"./wav2lip-samples/koike.mp3\"\n",
        "images = glob.glob(\"./wav2lip-samples/*.jpg\")[:(1+4+16+25)*3]\n",
        "index = 0\n",
        "for image in images:\n",
        "\tfpath, ext = os.path.splitext(os.path.basename(image))\n",
        "\tindex += 1\n",
        "\tdst = ('./tmp/%04d.mp4' % index)\n",
        "\tif not os.path.isfile(dst):\n",
        "\t\twav2lip.run(\n",
        "\t\t\timage, \n",
        "\t\t\taudio,\n",
        "\t\t\toutput_video = dst, \n",
        "\t\t\tpads = [0, 0, 0, 0],\n",
        "\t\t\tresize_factor = 1, \n",
        "\t\t\tcrop = None, \n",
        "\t\t\tbox = None, \n",
        "\t\t)"
      ],
      "metadata": {
        "id": "uRNHHsefUoeI"
      },
      "execution_count": null,
      "outputs": []
    },
    {
      "cell_type": "code",
      "source": [
        "from moviepy.editor import VideoFileClip, concatenate_videoclips, clips_array\n",
        "\n",
        "videos = []\n",
        "index = 1\n",
        "\n",
        "def load(n=1, t_start=None, t_end=None):\n",
        "\tglobal videos, index\n",
        "\trows = []\n",
        "\tfor x in range(n):\n",
        "\t\tcols = []\n",
        "\t\tfor y in range(n):\n",
        "\t\t\tv_ = VideoFileClip(\"./tmp/%04d.mp4\" % index).subclip(t_start=t_start,t_end=t_end)\n",
        "\t\t\tindex += 1\n",
        "\n",
        "\t\t\tif x != 0 or y != 0: v_ = v_.volumex(0)\n",
        "\t\t\tcols.append(v_)\n",
        "\t\trows.append(cols)\n",
        "\t\n",
        "\tvideos.append(clips_array(rows).resize(width=1280))\n",
        "\n",
        "for i in range(3):\n",
        "\tload(1,t_start=0.5,t_end=1.3)\n",
        "\tload(2,t_start=1.3,t_end=1.9)\n",
        "\tload(3,t_start=1.9,t_end=2.5)\n",
        "\tload(4,t_start=2.5,t_end=3.0)\n",
        "\n",
        "v0 = concatenate_videoclips(videos).resize(width=1280)\n",
        "v0.write_videofile('./dist/concatenated.mp4')"
      ],
      "metadata": {
        "id": "Vk49Sy8Ai_m-"
      },
      "execution_count": null,
      "outputs": []
    },
    {
      "cell_type": "code",
      "source": [
        "from IPython.display import HTML\n",
        "from base64 import b64encode\n",
        "\n",
        "mp4 = open('dist/concatenated.mp4', 'rb').read()\n",
        "data_url = 'data:video/mp4;base64,' + b64encode(mp4).decode()\n",
        "HTML(f\"\"\"\n",
        "<video width=\"40%\" height=\"40%\" controls>\n",
        "\t<source src=\"{data_url}\" type=\"video/mp4\">\n",
        "</video>\"\"\")"
      ],
      "metadata": {
        "id": "W1ztzYqNkSao"
      },
      "execution_count": null,
      "outputs": []
    }
  ]
}